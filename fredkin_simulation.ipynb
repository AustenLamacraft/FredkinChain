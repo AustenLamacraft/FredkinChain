{
 "cells": [
  {
   "cell_type": "markdown",
   "metadata": {},
   "source": [
    "# Fredkin spin chain simulation"
   ]
  },
  {
   "cell_type": "code",
   "execution_count": 1,
   "metadata": {},
   "outputs": [
    {
     "data": {
      "text/plain": [
       "3-element Array{Any,1}:\n",
       " \"/Applications/JuliaPro-0.6.0.1.app/Contents/Resources/julia/Contents/Resources/julia/local/share/julia/site/v0.6\"\n",
       " \"/Applications/JuliaPro-0.6.0.1.app/Contents/Resources/julia/Contents/Resources/julia/share/julia/site/v0.6\"      \n",
       " \".\"                                                                                                               "
      ]
     },
     "execution_count": 1,
     "metadata": {},
     "output_type": "execute_result"
    }
   ],
   "source": [
    "push!(LOAD_PATH, \".\")"
   ]
  },
  {
   "cell_type": "code",
   "execution_count": 2,
   "metadata": {},
   "outputs": [
    {
     "data": {
      "text/plain": [
       "8-element Array{Int64,1}:\n",
       " 2\n",
       " 3\n",
       " 4\n",
       " 5\n",
       " 6\n",
       " 7\n",
       " 8\n",
       " 9"
      ]
     },
     "execution_count": 2,
     "metadata": {},
     "output_type": "execute_result"
    }
   ],
   "source": [
    "addprocs(8)"
   ]
  },
  {
   "cell_type": "code",
   "execution_count": 3,
   "metadata": {
    "collapsed": true
   },
   "outputs": [],
   "source": [
    "@everywhere using FredkinChain"
   ]
  },
  {
   "cell_type": "code",
   "execution_count": 5,
   "metadata": {},
   "outputs": [
    {
     "name": "stdout",
     "output_type": "stream",
     "text": [
      "search: \u001b[1mf\u001b[22m\u001b[1mi\u001b[22m\u001b[1mn\u001b[22m\u001b[1md\u001b[22m\u001b[1m_\u001b[22m\u001b[1mp\u001b[22m\u001b[1mo\u001b[22m\u001b[1mw\u001b[22m\u001b[1me\u001b[22m\u001b[1mr\u001b[22m\u001b[1m_\u001b[22m\u001b[1ms\u001b[22m\u001b[1mp\u001b[22m\u001b[1me\u001b[22m\u001b[1mc\u001b[22m\u001b[1mt\u001b[22m\u001b[1mr\u001b[22m\u001b[1ma\u001b[22m\n",
      "\n"
     ]
    },
    {
     "data": {
      "text/markdown": [
       "```\n",
       "find_power_spectra(N_sim::Int, size_exp::Int, time_steps::Int; ncores::Int=8)\n",
       "```\n",
       "\n",
       "Finds the average power spectra over `N_sim` simulations for a chain of length `2^(size_exp)`\n"
      ],
      "text/plain": [
       "```\n",
       "find_power_spectra(N_sim::Int, size_exp::Int, time_steps::Int; ncores::Int=8)\n",
       "```\n",
       "\n",
       "Finds the average power spectra over `N_sim` simulations for a chain of length `2^(size_exp)`\n"
      ]
     },
     "execution_count": 5,
     "metadata": {},
     "output_type": "execute_result"
    }
   ],
   "source": [
    "?find_power_spectra"
   ]
  },
  {
   "cell_type": "code",
   "execution_count": 4,
   "metadata": {},
   "outputs": [
    {
     "name": "stdout",
     "output_type": "stream",
     "text": [
      "\tFrom worker 6:\trunning simulation: 1\n",
      "\tFrom worker 2:\trunning simulation: 1\n",
      "\tFrom worker 8:\trunning simulation: 1\n",
      "\tFrom worker 9:\trunning simulation: 1\n",
      "\tFrom worker 3:\trunning simulation: 1\n",
      "\tFrom worker 5:\trunning simulation: 1\n",
      "\tFrom worker 4:\trunning simulation: 1\n",
      "\tFrom worker 7:\trunning simulation: 1\n"
     ]
    },
    {
     "data": {
      "text/plain": [
       "10-element Array{Array{Float64,1},1}:\n",
       " [92560.9, 1.31403, 0.601667, 1.4858]\n",
       " [63690.0, 8.4494, 5.10386, 10.3878] \n",
       " [109992.0, 66.38, 33.1829, 78.2573] \n",
       " [99820.1, 212.181, 101.415, 333.93] \n",
       " [29423.1, 997.764, 434.389, 1621.03]\n",
       " [60865.3, 4850.9, 2197.87, 3559.51] \n",
       " [28748.6, 6980.3, 7929.33, 6475.89] \n",
       " [53773.4, 11880.1, 8204.71, 16063.2]\n",
       " [8649.02, 13009.1, 16530.3, 22452.5]\n",
       " [92560.9, 1.4858, 0.601667, 1.31403]"
      ]
     },
     "execution_count": 4,
     "metadata": {},
     "output_type": "execute_result"
    }
   ],
   "source": [
    "find_power_spectra(8, 10, 2^12)"
   ]
  },
  {
   "cell_type": "code",
   "execution_count": 6,
   "metadata": {},
   "outputs": [
    {
     "data": {
      "text/markdown": [
       "```\n",
       "fredkin_gate(C::UInt, I1::UInt, I2::UInt)\n",
       "```\n",
       "\n",
       "Computes the two outputs of a Fredkin gate with inputs C (control), I1 and I2. If C = 1, I1 and I2 are swapped, otherwise they remain unchanged.\n"
      ],
      "text/plain": [
       "```\n",
       "fredkin_gate(C::UInt, I1::UInt, I2::UInt)\n",
       "```\n",
       "\n",
       "Computes the two outputs of a Fredkin gate with inputs C (control), I1 and I2. If C = 1, I1 and I2 are swapped, otherwise they remain unchanged.\n"
      ]
     },
     "execution_count": 6,
     "metadata": {},
     "output_type": "execute_result"
    }
   ],
   "source": [
    "?RunSim.fredkin_gate"
   ]
  },
  {
   "cell_type": "code",
   "execution_count": null,
   "metadata": {
    "collapsed": true
   },
   "outputs": [],
   "source": []
  }
 ],
 "metadata": {
  "kernelspec": {
   "display_name": "Julia 0.6.0",
   "language": "julia",
   "name": "julia-0.6"
  },
  "language_info": {
   "file_extension": ".jl",
   "mimetype": "application/julia",
   "name": "julia",
   "version": "0.6.0"
  },
  "nav_menu": {},
  "toc": {
   "navigate_menu": true,
   "number_sections": true,
   "sideBar": true,
   "threshold": 6,
   "toc_cell": false,
   "toc_section_display": "block",
   "toc_window_display": false
  }
 },
 "nbformat": 4,
 "nbformat_minor": 2
}
