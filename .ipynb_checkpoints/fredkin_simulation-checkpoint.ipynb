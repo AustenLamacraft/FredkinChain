{
 "cells": [
  {
   "cell_type": "markdown",
   "metadata": {},
   "source": [
    "# Fredkin spin chain simulation\n",
    "\n",
    "## Running simulation"
   ]
  },
  {
   "cell_type": "code",
   "execution_count": 1,
   "metadata": {},
   "outputs": [
    {
     "data": {
      "text/plain": [
       "3-element Array{Any,1}:\n",
       " \"/Applications/JuliaPro-0.6.0.1.app/Contents/Resources/julia/Contents/Resources/julia/local/share/julia/site/v0.6\"\n",
       " \"/Applications/JuliaPro-0.6.0.1.app/Contents/Resources/julia/Contents/Resources/julia/share/julia/site/v0.6\"      \n",
       " \".\"                                                                                                               "
      ]
     },
     "execution_count": 1,
     "metadata": {},
     "output_type": "execute_result"
    }
   ],
   "source": [
    "push!(LOAD_PATH, \".\")"
   ]
  },
  {
   "cell_type": "code",
   "execution_count": 2,
   "metadata": {},
   "outputs": [
    {
     "data": {
      "text/plain": [
       "8-element Array{Int64,1}:\n",
       " 2\n",
       " 3\n",
       " 4\n",
       " 5\n",
       " 6\n",
       " 7\n",
       " 8\n",
       " 9"
      ]
     },
     "execution_count": 2,
     "metadata": {},
     "output_type": "execute_result"
    }
   ],
   "source": [
    "addprocs(8)"
   ]
  },
  {
   "cell_type": "code",
   "execution_count": 3,
   "metadata": {},
   "outputs": [
    {
     "name": "stderr",
     "output_type": "stream",
     "text": [
      "\n",
      "WARNING: deprecated syntax \"abstract ApproxFit\" at /Applications/JuliaPro-0.6.0.1.app/Contents/Resources/pkgs-0.6.0.1/v0.6/CurveFit/src/CurveFit.jl:47.\n",
      "Use \"abstract type ApproxFit end\" instead.\n",
      "\n",
      "WARNING: deprecated syntax \"abstract LeastSquares<:ApproxFit\" at /Applications/JuliaPro-0.6.0.1.app/Contents/Resources/pkgs-0.6.0.1/v0.6/CurveFit/src/CurveFit.jl:50.\n",
      "Use \"abstract type LeastSquares<:ApproxFit end\" instead.\n",
      "\n",
      "WARNING: deprecated syntax \"inner constructor LinearFit(...) around /Applications/JuliaPro-0.6.0.1.app/Contents/Resources/pkgs-0.6.0.1/v0.6/CurveFit/src/linfit.jl:54\".\n",
      "Use \"LinearFit{T}(...) where T\" instead.\n",
      "\n",
      "WARNING: deprecated syntax \"inner constructor LogFit(...) around /Applications/JuliaPro-0.6.0.1.app/Contents/Resources/pkgs-0.6.0.1/v0.6/CurveFit/src/linfit.jl:62\".\n",
      "Use \"LogFit{T}(...) where T\" instead.\n",
      "\n",
      "WARNING: deprecated syntax \"inner constructor PowerFit(...) around /Applications/JuliaPro-0.6.0.1.app/Contents/Resources/pkgs-0.6.0.1/v0.6/CurveFit/src/linfit.jl:69\".\n",
      "Use \"PowerFit{T}(...) where T\" instead.\n",
      "\n",
      "WARNING: deprecated syntax \"inner constructor ExpFit(...) around /Applications/JuliaPro-0.6.0.1.app/Contents/Resources/pkgs-0.6.0.1/v0.6/CurveFit/src/linfit.jl:76\".\n",
      "Use \"ExpFit{T}(...) where T\" instead.\n",
      "WARNING: could not import Base.call into CurveFit\n",
      "\n",
      "WARNING: deprecated syntax \"abstract ApproxFit\" at /Applications/JuliaPro-0.6.0.1.app/Contents/Resources/pkgs-0.6.0.1/v0.6/CurveFit/src/CurveFit.jl:47.\n",
      "Use \"abstract type ApproxFit end\" instead.\n",
      "\n",
      "WARNING: deprecated syntax \"abstract LeastSquares<:ApproxFit\" at /Applications/JuliaPro-0.6.0.1.app/Contents/Resources/pkgs-0.6.0.1/v0.6/CurveFit/src/CurveFit.jl:50.\n",
      "Use \"abstract type LeastSquares<:ApproxFit end\" instead.\n",
      "\n",
      "WARNING: deprecated syntax \"abstract ApproxFit\" at /Applications/JuliaPro-0.6.0.1.app/Contents/Resources/pkgs-0.6.0.1/v0.6/CurveFit/src/CurveFit.jl:47.\n",
      "Use \"abstract type ApproxFit end\" instead.\n",
      "\n",
      "WARNING: deprecated syntax \"abstract LeastSquares<:ApproxFit\" at /Applications/JuliaPro-0.6.0.1.app/Contents/Resources/pkgs-0.6.0.1/v0.6/CurveFit/src/CurveFit.jl:50.\n",
      "Use \"abstract type LeastSquares<:ApproxFit end\" instead.\n",
      "\n",
      "WARNING: deprecated syntax \"abstract ApproxFit\" at /Applications/JuliaPro-0.6.0.1.app/Contents/Resources/pkgs-0.6.0.1/v0.6/CurveFit/src/CurveFit.jl:47.\n",
      "Use \"abstract type ApproxFit end\" instead.\n",
      "\n",
      "WARNING: deprecated syntax \"abstract LeastSquares<:ApproxFit\" at /Applications/JuliaPro-0.6.0.1.app/Contents/Resources/pkgs-0.6.0.1/v0.6/CurveFit/src/CurveFit.jl:50.\n",
      "Use \"abstract type LeastSquares<:ApproxFit end\" instead.\n",
      "\n",
      "WARNING: deprecated syntax \"abstract ApproxFit\" at /Applications/JuliaPro-0.6.0.1.app/Contents/Resources/pkgs-0.6.0.1/v0.6/CurveFit/src/CurveFit.jl:47.\n",
      "Use \"abstract type ApproxFit end\" instead.\n",
      "\n",
      "WARNING: deprecated syntax \"abstract LeastSquares<:ApproxFit\" at /Applications/JuliaPro-0.6.0.1.app/Contents/Resources/pkgs-0.6.0.1/v0.6/CurveFit/src/CurveFit.jl:50.\n",
      "Use \"abstract type LeastSquares<:ApproxFit end\" instead.\n",
      "\n",
      "WARNING: deprecated syntax \"abstract ApproxFit\" at /Applications/JuliaPro-0.6.0.1.app/Contents/Resources/pkgs-0.6.0.1/v0.6/CurveFit/src/CurveFit.jl:47.\n",
      "Use \"abstract type ApproxFit end\" instead.\n",
      "\n",
      "WARNING: deprecated syntax \"abstract LeastSquares<:ApproxFit\" at /Applications/JuliaPro-0.6.0.1.app/Contents/Resources/pkgs-0.6.0.1/v0.6/CurveFit/src/CurveFit.jl:50.\n",
      "Use \"abstract type LeastSquares<:ApproxFit end\" instead.\n",
      "\n",
      "WARNING: deprecated syntax \"abstract ApproxFit\" at /Applications/JuliaPro-0.6.0.1.app/Contents/Resources/pkgs-0.6.0.1/v0.6/CurveFit/src/CurveFit.jl:47.\n",
      "Use \"abstract type ApproxFit end\" instead.\n",
      "\n",
      "WARNING: deprecated syntax \"abstract ApproxFit\" at /Applications/JuliaPro-0.6.0.1.app/Contents/Resources/pkgs-0.6.0.1/v0.6/CurveFit/src/CurveFit.jl:47.\n",
      "Use \"abstract type ApproxFit end\" instead.\n",
      "\n",
      "WARNING: deprecated syntax \"abstract LeastSquares<:ApproxFit\" at /Applications/JuliaPro-0.6.0.1.app/Contents/Resources/pkgs-0.6.0.1/v0.6/CurveFit/src/CurveFit.jl:50.\n",
      "Use \"abstract type LeastSquares<:ApproxFit end\" instead.\n",
      "\n",
      "WARNING: deprecated syntax \"abstract LeastSquares<:ApproxFit\" at /Applications/JuliaPro-0.6.0.1.app/Contents/Resources/pkgs-0.6.0.1/v0.6/CurveFit/src/CurveFit.jl:50.\n",
      "Use \"abstract type LeastSquares<:ApproxFit end\" instead.\n",
      "\n",
      "WARNING: deprecated syntax \"abstract ApproxFit\" at /Applications/JuliaPro-0.6.0.1.app/Contents/Resources/pkgs-0.6.0.1/v0.6/CurveFit/src/CurveFit.jl:47.\n",
      "Use \"abstract type ApproxFit end\" instead.\n",
      "\n",
      "WARNING: deprecated syntax \"abstract LeastSquares<:ApproxFit\" at /Applications/JuliaPro-0.6.0.1.app/Contents/Resources/pkgs-0.6.0.1/v0.6/CurveFit/src/CurveFit.jl:50.\n",
      "Use \"abstract type LeastSquares<:ApproxFit end\" instead.\n",
      "\n",
      "WARNING: deprecated syntax \"inner constructor LinearFit(...) around /Applications/JuliaPro-0.6.0.1.app/Contents/Resources/pkgs-0.6.0.1/v0.6/CurveFit/src/linfit.jl:54\".\n",
      "Use \"LinearFit{T}(...) where T\" instead.\n",
      "\n",
      "WARNING: deprecated syntax \"inner constructor LogFit(...) around /Applications/JuliaPro-0.6.0.1.app/Contents/Resources/pkgs-0.6.0.1/v0.6/CurveFit/src/linfit.jl:62\".\n",
      "Use \"LogFit{T}(...) where T\" instead.\n",
      "\n",
      "WARNING: deprecated syntax \"inner constructor PowerFit(...) around /Applications/JuliaPro-0.6.0.1.app/Contents/Resources/pkgs-0.6.0.1/v0.6/CurveFit/src/linfit.jl:69\".\n",
      "Use \"PowerFit{T}(...) where T\" instead.\n",
      "\n",
      "WARNING: deprecated syntax \"inner constructor LinearFit(...) around /Applications/JuliaPro-0.6.0.1.app/Contents/Resources/pkgs-0.6.0.1/v0.6/CurveFit/src/linfit.jl:54\".\n",
      "Use \"LinearFit{T}(...) where T\" instead.\n",
      "\n",
      "WARNING: deprecated syntax \"inner constructor ExpFit(...) around /Applications/JuliaPro-0.6.0.1.app/Contents/Resources/pkgs-0.6.0.1/v0.6/CurveFit/src/linfit.jl:76\".\n",
      "Use \"ExpFit{T}(...) where T\" instead.\n",
      "\n",
      "WARNING: deprecated syntax \"inner constructor LogFit(...) around /Applications/JuliaPro-0.6.0.1.app/Contents/Resources/pkgs-0.6.0.1/v0.6/CurveFit/src/linfit.jl:62\".\n",
      "Use \"LogFit{T}(...) where T\" instead.\n",
      "\n",
      "WARNING: deprecated syntax \"inner constructor LinearFit(...) around /Applications/JuliaPro-0.6.0.1.app/Contents/Resources/pkgs-0.6.0.1/v0.6/CurveFit/src/linfit.jl:54\".\n",
      "Use \"LinearFit{T}(...) where T\" instead.\n",
      "\n",
      "WARNING: deprecated syntax \"inner constructor PowerFit(...) around /Applications/JuliaPro-0.6.0.1.app/Contents/Resources/pkgs-0.6.0.1/v0.6/CurveFit/src/linfit.jl:69\".\n",
      "Use \"PowerFit{T}(...) where T\" instead.\n",
      "\n",
      "WARNING: deprecated syntax \"inner constructor LinearFit(...) around /Applications/JuliaPro-0.6.0.1.app/Contents/Resources/pkgs-0.6.0.1/v0.6/CurveFit/src/linfit.jl:54\".\n",
      "Use \"LinearFit{T}(...) where T\" instead.\n",
      "\n",
      "WARNING: deprecated syntax \"inner constructor LinearFit(...) around /Applications/JuliaPro-0.6.0.1.app/Contents/Resources/pkgs-0.6.0.1/v0.6/CurveFit/src/linfit.jl:54\".\n",
      "Use \"LinearFit{T}(...) where T\" instead.\n",
      "\n",
      "WARNING: deprecated syntax \"inner constructor LogFit(...) around /Applications/JuliaPro-0.6.0.1.app/Contents/Resources/pkgs-0.6.0.1/v0.6/CurveFit/src/linfit.jl:62\".\n",
      "Use \"LogFit{T}(...) where T\" instead.\n",
      "\n",
      "WARNING: deprecated syntax \"inner constructor ExpFit(...) around /Applications/JuliaPro-0.6.0.1.app/Contents/Resources/pkgs-0.6.0.1/v0.6/CurveFit/src/linfit.jl:76\".\n",
      "Use \"ExpFit{T}(...) where T\" instead.\n",
      "\n",
      "WARNING: deprecated syntax \"inner constructor LogFit(...) around /Applications/JuliaPro-0.6.0.1.app/Contents/Resources/pkgs-0.6.0.1/v0.6/CurveFit/src/linfit.jl:62\".\n",
      "Use \"LogFit{T}(...) where T\" instead.\n",
      "\n",
      "WARNING: deprecated syntax \"inner constructor LinearFit(...) around /Applications/JuliaPro-0.6.0.1.app/Contents/Resources/pkgs-0.6.0.1/v0.6/CurveFit/src/linfit.jl:54\".\n",
      "Use \"LinearFit{T}(...) where T\" instead.\n",
      "\n",
      "WARNING: deprecated syntax \"inner constructor LinearFit(...) around /Applications/JuliaPro-0.6.0.1.app/Contents/Resources/pkgs-0.6.0.1/v0.6/CurveFit/src/linfit.jl:54\".\n",
      "Use \"LinearFit{T}(...) where T\" instead.\n",
      "\n",
      "WARNING: deprecated syntax \"inner constructor LogFit(...) around /Applications/JuliaPro-0.6.0.1.app/Contents/Resources/pkgs-0.6.0.1/v0.6/CurveFit/src/linfit.jl:62\".\n",
      "Use \"LogFit{T}(...) where T\" instead.\n",
      "\n",
      "WARNING: deprecated syntax \"inner constructor PowerFit(...) around /Applications/JuliaPro-0.6.0.1.app/Contents/Resources/pkgs-0.6.0.1/v0.6/CurveFit/src/linfit.jl:69\".\n",
      "Use \"PowerFit{T}(...) where T\" instead.\n",
      "\n",
      "WARNING: deprecated syntax \"inner constructor PowerFit(...) around /Applications/JuliaPro-0.6.0.1.app/Contents/Resources/pkgs-0.6.0.1/v0.6/CurveFit/src/linfit.jl:69\".\n",
      "Use \"PowerFit{T}(...) where T\" instead.\n",
      "\n",
      "WARNING: deprecated syntax \"inner constructor LogFit(...) around /Applications/JuliaPro-0.6.0.1.app/Contents/Resources/pkgs-0.6.0.1/v0.6/CurveFit/src/linfit.jl:62\".\n",
      "Use \"LogFit{T}(...) where T\" instead.\n",
      "\n",
      "WARNING: deprecated syntax \"inner constructor LinearFit(...) around /Applications/JuliaPro-0.6.0.1.app/Contents/Resources/pkgs-0.6.0.1/v0.6/CurveFit/src/linfit.jl:54\".\n",
      "Use \"LinearFit{T}(...) where T\" instead.\n",
      "\n",
      "WARNING: deprecated syntax \"inner constructor LogFit(...) around /Applications/JuliaPro-0.6.0.1.app/Contents/Resources/pkgs-0.6.0.1/v0.6/CurveFit/src/linfit.jl:62\".\n",
      "Use \"LogFit{T}(...) where T\" instead.\n",
      "\n",
      "WARNING: deprecated syntax \"inner constructor PowerFit(...) around /Applications/JuliaPro-0.6.0.1.app/Contents/Resources/pkgs-0.6.0.1/v0.6/CurveFit/src/linfit.jl:69\".\n",
      "Use \"PowerFit{T}(...) where T\" instead.\n",
      "\n",
      "WARNING: deprecated syntax \"inner constructor ExpFit(...) around /Applications/JuliaPro-0.6.0.1.app/Contents/Resources/pkgs-0.6.0.1/v0.6/CurveFit/src/linfit.jl:76\".\n",
      "Use \"ExpFit{T}(...) where T\" instead.\n",
      "\n",
      "WARNING: deprecated syntax \"inner constructor ExpFit(...) around /Applications/JuliaPro-0.6.0.1.app/Contents/Resources/pkgs-0.6.0.1/v0.6/CurveFit/src/linfit.jl:76\".\n",
      "Use \"ExpFit{T}(...) where T\" instead.\n",
      "\n",
      "WARNING: deprecated syntax \"inner constructor LogFit(...) around /Applications/JuliaPro-0.6.0.1.app/Contents/Resources/pkgs-0.6.0.1/v0.6/CurveFit/src/linfit.jl:62\".\n",
      "Use \"LogFit{T}(...) where T\" instead.\n",
      "\n",
      "WARNING: deprecated syntax \"inner constructor PowerFit(...) around /Applications/JuliaPro-0.6.0.1.app/Contents/Resources/pkgs-0.6.0.1/v0.6/CurveFit/src/linfit.jl:69\".\n",
      "Use \"PowerFit{T}(...) where T\" instead.\n",
      "\n",
      "WARNING: deprecated syntax \"inner constructor ExpFit(...) around /Applications/JuliaPro-0.6.0.1.app/Contents/Resources/pkgs-0.6.0.1/v0.6/CurveFit/src/linfit.jl:76\".\n",
      "Use \"ExpFit{T}(...) where T\" instead.\n",
      "\n",
      "WARNING: deprecated syntax \"inner constructor PowerFit(...) around /Applications/JuliaPro-0.6.0.1.app/Contents/Resources/pkgs-0.6.0.1/v0.6/CurveFit/src/linfit.jl:69\".\n",
      "Use \"PowerFit{T}(...) where T\" instead.\n",
      "\n",
      "WARNING: deprecated syntax \"inner constructor ExpFit(...) around /Applications/JuliaPro-0.6.0.1.app/Contents/Resources/pkgs-0.6.0.1/v0.6/CurveFit/src/linfit.jl:76\".\n",
      "Use \"ExpFit{T}(...) where T\" instead.\n",
      "\n",
      "WARNING: deprecated syntax \"inner constructor PowerFit(...) around /Applications/JuliaPro-0.6.0.1.app/Contents/Resources/pkgs-0.6.0.1/v0.6/CurveFit/src/linfit.jl:69\".\n",
      "Use \"PowerFit{T}(...) where T\" instead.\n",
      "\n",
      "WARNING: deprecated syntax \"inner constructor ExpFit(...) around /Applications/JuliaPro-0.6.0.1.app/Contents/Resources/pkgs-0.6.0.1/v0.6/CurveFit/src/linfit.jl:76\".\n",
      "Use \"ExpFit{T}(...) where T\" instead.\n",
      "\n",
      "WARNING: deprecated syntax \"inner constructor ExpFit(...) around /Applications/JuliaPro-0.6.0.1.app/Contents/Resources/pkgs-0.6.0.1/v0.6/CurveFit/src/linfit.jl:76\".\n",
      "Use \"ExpFit{T}(...) where T\" instead.\n",
      "WARNING: could not import Base.call into CurveFit\n",
      "WARNING: could not import Base.call into CurveFit\n",
      "WARNING: could not import Base.call into CurveFit\n",
      "WARNING: could not import Base.call into CurveFit\n",
      "WARNING: could not import Base.call into CurveFit\n",
      "WARNING: could not import Base.call into CurveFit\n",
      "WARNING: could not import Base.call into CurveFit\n"
     ]
    },
    {
     "name": "stderr",
     "output_type": "stream",
     "text": [
      "WARNING: could not import Base.call into CurveFit\n"
     ]
    }
   ],
   "source": [
    "@everywhere using FredkinChain"
   ]
  },
  {
   "cell_type": "code",
   "execution_count": 4,
   "metadata": {},
   "outputs": [
    {
     "name": "stdout",
     "output_type": "stream",
     "text": [
      "search: \u001b[1mf\u001b[22m\u001b[1mi\u001b[22m\u001b[1mn\u001b[22m\u001b[1md\u001b[22m\u001b[1m_\u001b[22m\u001b[1mp\u001b[22m\u001b[1mo\u001b[22m\u001b[1mw\u001b[22m\u001b[1me\u001b[22m\u001b[1mr\u001b[22m\u001b[1m_\u001b[22m\u001b[1ms\u001b[22m\u001b[1mp\u001b[22m\u001b[1me\u001b[22m\u001b[1mc\u001b[22m\u001b[1mt\u001b[22m\u001b[1mr\u001b[22m\u001b[1ma\u001b[22m\n",
      "\n"
     ]
    },
    {
     "data": {
      "text/markdown": [
       "```\n",
       "find_power_spectrafind_power_spectra(N_sim::Int, size_exp::Int, time_steps::Int; init::Symbol=:dyck_init, update::Symbol=:open_update, ncores::Int=8)\n",
       "```\n",
       "\n",
       "Finds the average power spectra over `N_sim` simulations run on `ncores` cores, for a chain of length `2^(size_exp)`.\n",
       "\n",
       "`init` describes the initialization method, which can be `rand_init` for random configurations or `dyck_init` for configurations drawn uniformly from the Dyck paths.\n",
       "\n",
       "`update` describes the update method, which can be `open_update` or `periodic_update` for open or periodic boundary conditions respectively.\n"
      ],
      "text/plain": [
       "```\n",
       "find_power_spectrafind_power_spectra(N_sim::Int, size_exp::Int, time_steps::Int; init::Symbol=:dyck_init, update::Symbol=:open_update, ncores::Int=8)\n",
       "```\n",
       "\n",
       "Finds the average power spectra over `N_sim` simulations run on `ncores` cores, for a chain of length `2^(size_exp)`.\n",
       "\n",
       "`init` describes the initialization method, which can be `rand_init` for random configurations or `dyck_init` for configurations drawn uniformly from the Dyck paths.\n",
       "\n",
       "`update` describes the update method, which can be `open_update` or `periodic_update` for open or periodic boundary conditions respectively.\n"
      ]
     },
     "execution_count": 4,
     "metadata": {},
     "output_type": "execute_result"
    }
   ],
   "source": [
    "?find_power_spectra"
   ]
  },
  {
   "cell_type": "code",
   "execution_count": 5,
   "metadata": {},
   "outputs": [
    {
     "name": "stdout",
     "output_type": "stream",
     "text": [
      "\tFrom worker 3:\trunning simulation: 1\n",
      "\tFrom worker 6:\trunning simulation: 1\n",
      "\tFrom worker 7:\trunning simulation: 1\n",
      "\tFrom worker 2:\trunning simulation: 1\n",
      "\tFrom worker 5:\trunning simulation: 1\n",
      "\tFrom worker 4:\trunning simulation: 1\n",
      "\tFrom worker 8:\trunning simulation: 1\n",
      "\tFrom worker 9:\trunning simulation: 1\n",
      "\tFrom worker 5:\trunning simulation: 2\n",
      "\tFrom worker 6:\trunning simulation: 2\n",
      "\tFrom worker 7:\trunning simulation: 2\n",
      "\tFrom worker 8:\trunning simulation: 2\n",
      "\tFrom worker 2:\trunning simulation: 2\n",
      "\tFrom worker 4:\trunning simulation: 2\n",
      "\tFrom worker 9:\trunning simulation: 2\n",
      "\tFrom worker 3:\trunning simulation: 2\n"
     ]
    },
    {
     "data": {
      "text/plain": [
       "10-element Array{Array{Float64,1},1}:\n",
       " [2.33161e7, 59760.8, 21226.3, 6737.41, 3607.23, 2267.43, 1921.04, 1363.9, 1190.58, 617.705  …  787.255, 1022.28, 1215.74, 744.879, 2407.55, 2489.95, 3750.32, 4515.81, 11353.6, 67245.2]                                     \n",
       " [1.33923e7, 6.14293e5, 2.02933e5, 57420.0, 22820.4, 13210.8, 9971.33, 14744.0, 7943.72, 8970.72  …  5858.36, 6528.03, 8154.86, 7187.54, 15207.5, 16242.4, 28460.4, 62637.3, 1.05184e5, 8.59543e5]                            \n",
       " [8.93935e6, 2.43345e6, 3.74029e5, 2.92265e5, 1.16488e5, 88892.3, 63344.9, 36109.6, 40771.7, 23837.7  …  25239.9, 26180.1, 38325.1, 31198.3, 65190.8, 86726.8, 1.43373e5, 2.50106e5, 6.31527e5, 1.89808e6]                    \n",
       " [3.3019e6, 2.22018e6, 1.21051e6, 4.45238e5, 4.03592e5, 3.93406e5, 1.40504e5, 2.13487e5, 1.53782e5, 58578.7  …  80843.6, 81946.6, 1.17346e5, 1.20887e5, 1.7708e5, 341093.0, 4.61924e5, 8.41219e5, 1.45589e6, 3.00972e6]       \n",
       " [8.16418e5, 1.44627e6, 7.88641e5, 5.36384e5, 3.97251e5, 2.87459e5, 5.243e5, 3.23397e5, 2.73478e5, 2.68469e5  …  2.14105e5, 1.6975e5, 2.00395e5, 3.32001e5, 3.63148e5, 6.9257e5, 5.46138e5, 5.90837e5, 6.53379e5, 8.70759e5]  \n",
       " [2.18116e5, 2.58961e5, 2.97312e5, 2.15343e5, 2.41923e5, 2.13948e5, 187538.0, 2.24468e5, 2.50498e5, 245181.0  …  1.18729e5, 1.73709e5, 1.95936e5, 2.99925e5, 2.80271e5, 1.77542e5, 3.34116e5, 2.04204e5, 2.61981e5, 3.80463e5]\n",
       " [107410.0, 81569.3, 86872.7, 1.38149e5, 1.21359e5, 1.02654e5, 1.33238e5, 1.15895e5, 1.18695e5, 81043.6  …  78899.8, 83404.7, 83477.6, 76226.6, 1.216e5, 1.28152e5, 1.51389e5, 1.78588e5, 1.40722e5, 1.03146e5]               \n",
       " [1.02876e5, 91833.5, 74062.3, 64957.2, 1.16058e5, 63618.8, 65109.7, 91305.8, 51378.5, 72828.6  …  53664.4, 61681.2, 75649.8, 87464.7, 87921.7, 74276.9, 95507.2, 56320.4, 61938.8, 97327.0]                                  \n",
       " [43325.6, 36420.2, 30117.2, 41263.4, 51607.7, 43886.2, 22293.4, 44998.0, 31277.5, 36798.5  …  31623.3, 22662.0, 61781.4, 33171.6, 50780.2, 32810.1, 38262.0, 40828.7, 72121.1, 52730.4]                                      \n",
       " [2.33161e7, 67245.2, 11353.6, 4515.81, 3750.32, 2489.95, 2407.55, 744.879, 1215.74, 1022.28  …  480.857, 617.705, 1190.58, 1363.9, 1921.04, 2267.43, 3607.23, 6737.41, 21226.3, 59760.8]                                     "
      ]
     },
     "execution_count": 5,
     "metadata": {},
     "output_type": "execute_result"
    }
   ],
   "source": [
    "open_spectra = find_power_spectra(16, 10, 2^20, init=:dyck_init, update=:open_update)"
   ]
  },
  {
   "cell_type": "code",
   "execution_count": 6,
   "metadata": {},
   "outputs": [
    {
     "name": "stderr",
     "output_type": "stream",
     "text": [
      "WARNING: Compat.ASCIIString is deprecated, use String instead.\n",
      "  likely near In[6]:3\n",
      "WARNING: Compat.UTF8String is deprecated, use String instead.\n",
      "  likely near In[6]:3\n"
     ]
    }
   ],
   "source": [
    "using JLD\n",
    "\n",
    "@save \"open_spectra.jld\" open_spectra"
   ]
  },
  {
   "cell_type": "markdown",
   "metadata": {},
   "source": [
    "## Data fitting"
   ]
  },
  {
   "cell_type": "code",
   "execution_count": 7,
   "metadata": {},
   "outputs": [
    {
     "name": "stderr",
     "output_type": "stream",
     "text": [
      "WARNING: Compat.ASCIIString is deprecated, use String instead.\n",
      "  likely near In[7]:3\n",
      "in jldatatype at /Applications/JuliaPro-0.6.0.1.app/Contents/Resources/pkgs-0.6.0.1/v0.6/JLD/src/jld_types.jl\n",
      "WARNING: Compat.UTF8String is deprecated, use String instead.\n",
      "  likely near In[7]:3\n",
      "in jldatatype at /Applications/JuliaPro-0.6.0.1.app/Contents/Resources/pkgs-0.6.0.1/v0.6/JLD/src/jld_types.jl\n"
     ]
    },
    {
     "data": {
      "text/plain": [
       "1-element Array{Symbol,1}:\n",
       " :open_spectra"
      ]
     },
     "execution_count": 7,
     "metadata": {},
     "output_type": "execute_result"
    }
   ],
   "source": [
    "using JLD\n",
    "\n",
    "@load \"open_spectra.jld\""
   ]
  },
  {
   "cell_type": "code",
   "execution_count": null,
   "metadata": {},
   "outputs": [],
   "source": [
    "using PyPlot\n",
    "pygui(false)\n",
    "\n",
    "for power_spec in open_spectra[1:9]\n",
    "    plot(power_spec[1:1000]/power_spec[1])\n",
    "end"
   ]
  },
  {
   "cell_type": "code",
   "execution_count": 5,
   "metadata": {},
   "outputs": [
    {
     "name": "stdout",
     "output_type": "stream",
     "text": [
      "search: \u001b[1ml\u001b[22m\u001b[1mo\u001b[22m\u001b[1mr\u001b[22m\u001b[1me\u001b[22m\u001b[1mn\u001b[22m\u001b[1mt\u001b[22m\u001b[1mz\u001b[22m\u001b[1mi\u001b[22m\u001b[1ma\u001b[22m\u001b[1mn\u001b[22m\u001b[1m_\u001b[22m\u001b[1mt\u001b[22m\u001b[1mi\u001b[22m\u001b[1mm\u001b[22m\u001b[1me\u001b[22m\n",
      "\n"
     ]
    },
    {
     "data": {
      "text/markdown": [
       "Fit to Lorentzian plus a constant. Interpret coefficient of `x^2` in denominator as squared time\n"
      ],
      "text/plain": [
       "Fit to Lorentzian plus a constant. Interpret coefficient of `x^2` in denominator as squared time\n"
      ]
     },
     "execution_count": 5,
     "metadata": {},
     "output_type": "execute_result"
    }
   ],
   "source": [
    "?lorentzian_time"
   ]
  },
  {
   "cell_type": "code",
   "execution_count": 10,
   "metadata": {},
   "outputs": [
    {
     "name": "stderr",
     "output_type": "stream",
     "text": [
      "\u001b[1m\u001b[33mWARNING: \u001b[39m\u001b[22m\u001b[33mmaxabs(x) is deprecated, use maximum(abs, x) instead.\u001b[39m\n",
      "Stacktrace:\n",
      " [1] \u001b[1mdepwarn\u001b[22m\u001b[22m\u001b[1m(\u001b[22m\u001b[22m::String, ::Symbol\u001b[1m)\u001b[22m\u001b[22m at \u001b[1m./deprecated.jl:70\u001b[22m\u001b[22m\n",
      " [2] \u001b[1mmaxabs\u001b[22m\u001b[22m\u001b[1m(\u001b[22m\u001b[22m::Array{Float64,1}\u001b[1m)\u001b[22m\u001b[22m at \u001b[1m./deprecated.jl:57\u001b[22m\u001b[22m\n",
      " [3] \u001b[1mnonlinear_fit\u001b[22m\u001b[22m\u001b[1m(\u001b[22m\u001b[22m::Array{Float64,2}, ::CurveFit.##7#8{Int64,Int64,CurveFit.RationalPoly{Float64}}, ::Array{Float64,1}, ::Float64, ::Int64\u001b[1m)\u001b[22m\u001b[22m at \u001b[1m/Applications/JuliaPro-0.6.0.1.app/Contents/Resources/pkgs-0.6.0.1/v0.6/CurveFit/src/nonlinfit.jl:78\u001b[22m\u001b[22m\n",
      " [4] \u001b[1mrational_fit\u001b[22m\u001b[22m\u001b[1m(\u001b[22m\u001b[22m::Array{Float64,1}, ::Array{Float64,1}, ::Int64, ::Int64, ::Float64, ::Int64\u001b[1m)\u001b[22m\u001b[22m at \u001b[1m/Applications/JuliaPro-0.6.0.1.app/Contents/Resources/pkgs-0.6.0.1/v0.6/CurveFit/src/rationalfit.jl:85\u001b[22m\u001b[22m\n",
      " [5] \u001b[1mlorentzian_time\u001b[22m\u001b[22m\u001b[1m(\u001b[22m\u001b[22m::Array{Float64,1}, ::Array{Float64,1}\u001b[1m)\u001b[22m\u001b[22m at \u001b[1m/Users/austen/Code/fredkin_chain/FredkinChain.jl:40\u001b[22m\u001b[22m\n",
      " [6] \u001b[1mcollect\u001b[22m\u001b[22m\u001b[1m(\u001b[22m\u001b[22m::Base.Generator{UnitRange{Int64},##7#8}\u001b[1m)\u001b[22m\u001b[22m at \u001b[1m./array.jl:441\u001b[22m\u001b[22m\n",
      " [7] \u001b[1minclude_string\u001b[22m\u001b[22m\u001b[1m(\u001b[22m\u001b[22m::String, ::String\u001b[1m)\u001b[22m\u001b[22m at \u001b[1m./loading.jl:515\u001b[22m\u001b[22m\n",
      " [8] \u001b[1mexecute_request\u001b[22m\u001b[22m\u001b[1m(\u001b[22m\u001b[22m::ZMQ.Socket, ::IJulia.Msg\u001b[1m)\u001b[22m\u001b[22m at \u001b[1m/Applications/JuliaPro-0.6.0.1.app/Contents/Resources/pkgs-0.6.0.1/v0.6/IJulia/src/execute_request.jl:160\u001b[22m\u001b[22m\n",
      " [9] \u001b[1meventloop\u001b[22m\u001b[22m\u001b[1m(\u001b[22m\u001b[22m::ZMQ.Socket\u001b[1m)\u001b[22m\u001b[22m at \u001b[1m/Applications/JuliaPro-0.6.0.1.app/Contents/Resources/pkgs-0.6.0.1/v0.6/IJulia/src/eventloop.jl:8\u001b[22m\u001b[22m\n",
      " [10] \u001b[1m(::IJulia.##11#14)\u001b[22m\u001b[22m\u001b[1m(\u001b[22m\u001b[22m\u001b[1m)\u001b[22m\u001b[22m at \u001b[1m./task.jl:335\u001b[22m\u001b[22m\n",
      "while loading In[10], in expression starting on line 3\n",
      "\u001b[1m\u001b[33mWARNING: \u001b[39m\u001b[22m\u001b[33mmaxabs(x) is deprecated, use maximum(abs, x) instead.\u001b[39m\n",
      "Stacktrace:\n",
      " [1] \u001b[1mdepwarn\u001b[22m\u001b[22m\u001b[1m(\u001b[22m\u001b[22m::String, ::Symbol\u001b[1m)\u001b[22m\u001b[22m at \u001b[1m./deprecated.jl:70\u001b[22m\u001b[22m\n",
      " [2] \u001b[1mmaxabs\u001b[22m\u001b[22m\u001b[1m(\u001b[22m\u001b[22m::Array{Float64,1}\u001b[1m)\u001b[22m\u001b[22m at \u001b[1m./deprecated.jl:57\u001b[22m\u001b[22m\n",
      " [3] \u001b[1mnonlinear_fit\u001b[22m\u001b[22m\u001b[1m(\u001b[22m\u001b[22m::Array{Float64,2}, ::CurveFit.##7#8{Int64,Int64,CurveFit.RationalPoly{Float64}}, ::Array{Float64,1}, ::Float64, ::Int64\u001b[1m)\u001b[22m\u001b[22m at \u001b[1m/Applications/JuliaPro-0.6.0.1.app/Contents/Resources/pkgs-0.6.0.1/v0.6/CurveFit/src/nonlinfit.jl:106\u001b[22m\u001b[22m\n",
      " [4] \u001b[1mrational_fit\u001b[22m\u001b[22m\u001b[1m(\u001b[22m\u001b[22m::Array{Float64,1}, ::Array{Float64,1}, ::Int64, ::Int64, ::Float64, ::Int64\u001b[1m)\u001b[22m\u001b[22m at \u001b[1m/Applications/JuliaPro-0.6.0.1.app/Contents/Resources/pkgs-0.6.0.1/v0.6/CurveFit/src/rationalfit.jl:85\u001b[22m\u001b[22m\n",
      " [5] \u001b[1mlorentzian_time\u001b[22m\u001b[22m\u001b[1m(\u001b[22m\u001b[22m::Array{Float64,1}, ::Array{Float64,1}\u001b[1m)\u001b[22m\u001b[22m at \u001b[1m/Users/austen/Code/fredkin_chain/FredkinChain.jl:40\u001b[22m\u001b[22m\n",
      " [6] \u001b[1mcollect\u001b[22m\u001b[22m\u001b[1m(\u001b[22m\u001b[22m::Base.Generator{UnitRange{Int64},##7#8}\u001b[1m)\u001b[22m\u001b[22m at \u001b[1m./array.jl:441\u001b[22m\u001b[22m\n",
      " [7] \u001b[1minclude_string\u001b[22m\u001b[22m\u001b[1m(\u001b[22m\u001b[22m::String, ::String\u001b[1m)\u001b[22m\u001b[22m at \u001b[1m./loading.jl:515\u001b[22m\u001b[22m\n",
      " [8] \u001b[1mexecute_request\u001b[22m\u001b[22m\u001b[1m(\u001b[22m\u001b[22m::ZMQ.Socket, ::IJulia.Msg\u001b[1m)\u001b[22m\u001b[22m at \u001b[1m/Applications/JuliaPro-0.6.0.1.app/Contents/Resources/pkgs-0.6.0.1/v0.6/IJulia/src/execute_request.jl:160\u001b[22m\u001b[22m\n",
      " [9] \u001b[1meventloop\u001b[22m\u001b[22m\u001b[1m(\u001b[22m\u001b[22m::ZMQ.Socket\u001b[1m)\u001b[22m\u001b[22m at \u001b[1m/Applications/JuliaPro-0.6.0.1.app/Contents/Resources/pkgs-0.6.0.1/v0.6/IJulia/src/eventloop.jl:8\u001b[22m\u001b[22m\n",
      " [10] \u001b[1m(::IJulia.##11#14)\u001b[22m\u001b[22m\u001b[1m(\u001b[22m\u001b[22m\u001b[1m)\u001b[22m\u001b[22m at \u001b[1m./task.jl:335\u001b[22m\u001b[22m\n",
      "while loading In[10], in expression starting on line 3\n"
     ]
    },
    {
     "data": {
      "text/plain": [
       "9-element Array{Float64,1}:\n",
       "   4.69301   \n",
       "   1.39174   \n",
       "   0.383438  \n",
       "   0.0881689 \n",
       "   0.024185  \n",
       "   0.00649948\n",
       "   0.00367498\n",
       "   0.0108756 \n",
       " NaN         "
      ]
     },
     "execution_count": 10,
     "metadata": {},
     "output_type": "execute_result"
    }
   ],
   "source": [
    "x = [linspace(0, 1023, 1024);]\n",
    "\n",
    "decay_times = [lorentzian_time(x, open_spectra[p][1:1024]) for p in 1:9]"
   ]
  },
  {
   "cell_type": "code",
   "execution_count": 11,
   "metadata": {},
   "outputs": [
    {
     "data": {
      "image/png": "[encoded data removed]",
      "text/plain": [
       "PyPlot.Figure(PyObject <matplotlib.figure.Figure object at 0x12ef258d0>)"
      ]
     },
     "metadata": {},
     "output_type": "display_data"
    },
    {
     "data": {
      "text/plain": [
       "PyObject Text(0.5,1,u'Autocorrelation time vs. wavevector')"
      ]
     },
     "execution_count": 11,
     "metadata": {},
     "output_type": "execute_result"
    }
   ],
   "source": [
    "plot(1:9,log2.(decay_times))\n",
    "xlabel(L\"$\\log_2(wavenumber)$\")\n",
    "ylabel(L\"$\\log_2(time)$\")\n",
    "title(\"Autocorrelation time vs. wavevector\")"
   ]
  },
  {
   "cell_type": "code",
   "execution_count": null,
   "metadata": {
    "collapsed": true
   },
   "outputs": [],
   "source": []
  }
 ],
 "metadata": {
  "kernelspec": {
   "display_name": "Julia 0.6.0",
   "language": "julia",
   "name": "julia-0.6"
  },
  "language_info": {
   "file_extension": ".jl",
   "mimetype": "application/julia",
   "name": "julia",
   "version": "0.6.0"
  },
  "nav_menu": {},
  "toc": {
   "navigate_menu": true,
   "number_sections": true,
   "sideBar": true,
   "threshold": 6,
   "toc_cell": false,
   "toc_section_display": "block",
   "toc_window_display": false
  }
 },
 "nbformat": 4,
 "nbformat_minor": 2
}
